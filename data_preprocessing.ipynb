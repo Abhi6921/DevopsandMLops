{
 "cells": [
  {
   "attachments": {},
   "cell_type": "markdown",
   "metadata": {},
   "source": [
    "## MLops and DevOps Assignment 2"
   ]
  },
  {
   "cell_type": "code",
   "execution_count": 10,
   "metadata": {},
   "outputs": [],
   "source": [
    "#import all the necessary libraries\n",
    "import pandas as pd\n",
    "from sklearn.preprocessing import MinMaxScaler\n",
    "from sklearn.preprocessing import LabelEncoder\n",
    "from sklearn.preprocessing import MinMaxScaler\n",
    "from sklearn.model_selection import train_test_split\n",
    "from sklearn.pipeline import Pipeline\n",
    "from sklearn.ensemble import RandomForestRegressor\n",
    "from sklearn.metrics import mean_squared_error\n",
    "from sklearn.metrics import mean_absolute_error\n",
    "from sklearn.metrics import r2_score\n",
    "from sklearn.feature_selection import SelectKBest, f_regression, mutual_info_regression\n",
    "from sklearn.linear_model import LinearRegression"
   ]
  },
  {
   "attachments": {},
   "cell_type": "markdown",
   "metadata": {},
   "source": [
    "Let's see the first few rows of our dataset"
   ]
  },
  {
   "cell_type": "code",
   "execution_count": 11,
   "metadata": {},
   "outputs": [
    {
     "data": {
      "text/html": [
       "<div>\n",
       "<style scoped>\n",
       "    .dataframe tbody tr th:only-of-type {\n",
       "        vertical-align: middle;\n",
       "    }\n",
       "\n",
       "    .dataframe tbody tr th {\n",
       "        vertical-align: top;\n",
       "    }\n",
       "\n",
       "    .dataframe thead th {\n",
       "        text-align: right;\n",
       "    }\n",
       "</style>\n",
       "<table border=\"1\" class=\"dataframe\">\n",
       "  <thead>\n",
       "    <tr style=\"text-align: right;\">\n",
       "      <th></th>\n",
       "      <th>date_reported</th>\n",
       "      <th>country_code</th>\n",
       "      <th>country</th>\n",
       "      <th>who_region</th>\n",
       "      <th>new_cases</th>\n",
       "      <th>cumulative_cases</th>\n",
       "      <th>new_deaths</th>\n",
       "      <th>cumulative_deaths</th>\n",
       "    </tr>\n",
       "  </thead>\n",
       "  <tbody>\n",
       "    <tr>\n",
       "      <th>0</th>\n",
       "      <td>2020-01-03</td>\n",
       "      <td>AF</td>\n",
       "      <td>Afghanistan</td>\n",
       "      <td>EMRO</td>\n",
       "      <td>0</td>\n",
       "      <td>0</td>\n",
       "      <td>0</td>\n",
       "      <td>0</td>\n",
       "    </tr>\n",
       "    <tr>\n",
       "      <th>1</th>\n",
       "      <td>2020-01-04</td>\n",
       "      <td>AF</td>\n",
       "      <td>Afghanistan</td>\n",
       "      <td>EMRO</td>\n",
       "      <td>0</td>\n",
       "      <td>0</td>\n",
       "      <td>0</td>\n",
       "      <td>0</td>\n",
       "    </tr>\n",
       "    <tr>\n",
       "      <th>2</th>\n",
       "      <td>2020-01-05</td>\n",
       "      <td>AF</td>\n",
       "      <td>Afghanistan</td>\n",
       "      <td>EMRO</td>\n",
       "      <td>0</td>\n",
       "      <td>0</td>\n",
       "      <td>0</td>\n",
       "      <td>0</td>\n",
       "    </tr>\n",
       "    <tr>\n",
       "      <th>3</th>\n",
       "      <td>2020-01-06</td>\n",
       "      <td>AF</td>\n",
       "      <td>Afghanistan</td>\n",
       "      <td>EMRO</td>\n",
       "      <td>0</td>\n",
       "      <td>0</td>\n",
       "      <td>0</td>\n",
       "      <td>0</td>\n",
       "    </tr>\n",
       "    <tr>\n",
       "      <th>4</th>\n",
       "      <td>2020-01-07</td>\n",
       "      <td>AF</td>\n",
       "      <td>Afghanistan</td>\n",
       "      <td>EMRO</td>\n",
       "      <td>0</td>\n",
       "      <td>0</td>\n",
       "      <td>0</td>\n",
       "      <td>0</td>\n",
       "    </tr>\n",
       "  </tbody>\n",
       "</table>\n",
       "</div>"
      ],
      "text/plain": [
       "  date_reported country_code      country who_region  new_cases   \n",
       "0    2020-01-03           AF  Afghanistan       EMRO          0  \\\n",
       "1    2020-01-04           AF  Afghanistan       EMRO          0   \n",
       "2    2020-01-05           AF  Afghanistan       EMRO          0   \n",
       "3    2020-01-06           AF  Afghanistan       EMRO          0   \n",
       "4    2020-01-07           AF  Afghanistan       EMRO          0   \n",
       "\n",
       "   cumulative_cases  new_deaths  cumulative_deaths  \n",
       "0                 0           0                  0  \n",
       "1                 0           0                  0  \n",
       "2                 0           0                  0  \n",
       "3                 0           0                  0  \n",
       "4                 0           0                  0  "
      ]
     },
     "execution_count": 11,
     "metadata": {},
     "output_type": "execute_result"
    }
   ],
   "source": [
    "covidDF = pd.read_csv('covid_data.csv')\n",
    "covidDF.rename(columns=lambda x: x.lower(), inplace=True)\n",
    "covidDF.head()"
   ]
  },
  {
   "attachments": {},
   "cell_type": "markdown",
   "metadata": {},
   "source": [
    "Handle Missing Values"
   ]
  },
  {
   "cell_type": "code",
   "execution_count": 12,
   "metadata": {},
   "outputs": [
    {
     "data": {
      "text/plain": [
       "date_reported        0\n",
       "country_code         0\n",
       "country              0\n",
       "who_region           0\n",
       "new_cases            0\n",
       "cumulative_cases     0\n",
       "new_deaths           0\n",
       "cumulative_deaths    0\n",
       "dtype: int64"
      ]
     },
     "execution_count": 12,
     "metadata": {},
     "output_type": "execute_result"
    }
   ],
   "source": [
    "covidDF.dropna(inplace=True)\n",
    "covidDF.isnull().sum()"
   ]
  },
  {
   "attachments": {},
   "cell_type": "markdown",
   "metadata": {},
   "source": [
    "Preprocess necessary columns"
   ]
  },
  {
   "cell_type": "code",
   "execution_count": 13,
   "metadata": {},
   "outputs": [],
   "source": [
    "#preprocess the date column\n",
    "covidDF['date_reported'] = pd.to_datetime(covidDF['date_reported'])\n",
    "covidDF['Day'] = covidDF['date_reported'].dt.day  \n",
    "covidDF['Month'] = covidDF['date_reported'].dt.month  \n",
    "covidDF['Year'] = covidDF['date_reported'].dt.year  \n",
    "covidDF['Weekday'] = covidDF['date_reported'].dt.weekday\n",
    "\n",
    "\n",
    "#preprocess the country column\n",
    "label_encoder = LabelEncoder()\n",
    "covidDF['country'] = label_encoder.fit_transform(covidDF['country'])\n",
    "covidDF['who_region'] = label_encoder.fit_transform(covidDF['who_region'])\n",
    "\n",
    "#preprocess the case_counts, Min_maxscaler\n",
    "scaler = MinMaxScaler()\n",
    "covidDF['Normalized_new_cases'] = scaler.fit_transform(covidDF[['new_cases']])\n",
    "covidDF['Normalized_cumulative_cases'] = scaler.fit_transform(covidDF[['cumulative_cases']])\n",
    "covidDF['Normalized_new_deaths'] = scaler.fit_transform(covidDF[['new_deaths']])\n",
    "covidDF['Normalized_cumulative_deaths'] = scaler.fit_transform(covidDF[['cumulative_deaths']])\n",
    "covidDF.drop(['new_cases', 'cumulative_cases', 'new_deaths', 'cumulative_deaths'], axis=1, inplace=True)\n"
   ]
  },
  {
   "attachments": {},
   "cell_type": "markdown",
   "metadata": {},
   "source": [
    "### Predict new cases of country by month"
   ]
  },
  {
   "cell_type": "code",
   "execution_count": 14,
   "metadata": {},
   "outputs": [],
   "source": [
    "X = covidDF[['Month', 'country', 'who_region', 'Normalized_cumulative_cases', 'Normalized_new_deaths', 'Normalized_cumulative_deaths']]\n",
    "y = covidDF['Normalized_new_cases']\n",
    "\n",
    "X_train, X_test, y_train, y_test = train_test_split(X, y, test_size=0.2, random_state=0)\n",
    "\n",
    "#define pipeline to train\n",
    "pipeline = Pipeline(\n",
    "    steps=[\n",
    "        ('model', LinearRegression())\n",
    "    ]\n",
    ")\n",
    "# fit the model into the pipeline\n",
    "pipeline.fit(X_train, y_train)\n",
    "\n",
    "y_prediction = pipeline.predict(X_test)"
   ]
  },
  {
   "attachments": {},
   "cell_type": "markdown",
   "metadata": {},
   "source": [
    "### Find top-3 predictive features according to 3 different methods for measuring predictiveness."
   ]
  },
  {
   "cell_type": "code",
   "execution_count": 6,
   "metadata": {},
   "outputs": [
    {
     "name": "stdout",
     "output_type": "stream",
     "text": [
      "measuring predictivenesses using SelectKBest, with f_regression\n",
      "Index(['Normalized_cumulative_cases', 'Normalized_new_deaths',\n",
      "       'Normalized_cumulative_deaths'],\n",
      "      dtype='object')\n",
      "\n",
      "measuring predictivenesses using the randomforestregressor\n",
      "Normalized_cumulative_cases: 0.4391672713857072\n",
      "Normalized_cumulative_deaths: 0.22474185063473454\n",
      "Normalized_new_deaths: 0.1543138577532856\n",
      "\n",
      "measuring predictivenesses using Elastic Net regression\n",
      "Normalized_cumulative_cases: 0.7487716341193389\n",
      "Normalized_cumulative_deaths: 0.634306766536139\n",
      "Normalized_new_deaths: 0.5582183597085004\n"
     ]
    }
   ],
   "source": [
    "# Method 1: ANNOVA, F-value and SelectKBest\n",
    "print(\"measuring predictivenesses using SelectKBest, with f_regression\")\n",
    "f_test = SelectKBest(score_func=f_regression, k=3)\n",
    "f_test.fit(X_train, y_train)\n",
    "\n",
    "selected_features_f_test = X_train.columns[f_test.get_support()]\n",
    "\n",
    "print(selected_features_f_test)\n",
    "\n",
    "print()\n",
    "\n",
    "print(\"measuring predictivenesses using the randomforestregressor\")\n",
    "# Method 2: with RandomForestRegressor\n",
    "model = RandomForestRegressor()\n",
    "model.fit(X_train, y_train)\n",
    "\n",
    "feature_importances = model.feature_importances_\n",
    "sorted_feature_importances = sorted(zip(X_train.columns, feature_importances), key=lambda x: x[1], reverse=True)\n",
    "\n",
    "for feature, importance in sorted_feature_importances[:3]:\n",
    "    print(f\"{feature}: {importance}\")\n",
    "\n",
    "print()\n",
    "# Method 3: mutal_info_regression\n",
    "print(\"measuring predictivenesses using Elastic Net regression\")\n",
    "mutal_info_scores = mutual_info_regression(X_train, y_train)\n",
    "sorted_feature_scores = sorted(zip(X_train.columns, mutal_info_scores), key=lambda x: x[1], reverse=True)\n",
    "\n",
    "for feature, score in sorted_feature_scores[:3]:\n",
    "    print(f\"{feature}: {score}\")\n"
   ]
  },
  {
   "attachments": {},
   "cell_type": "markdown",
   "metadata": {},
   "source": [
    "### Accuracy Scores"
   ]
  },
  {
   "cell_type": "code",
   "execution_count": 9,
   "metadata": {},
   "outputs": [
    {
     "name": "stdout",
     "output_type": "stream",
     "text": [
      "mean squared error: 2.3248517419935346e-05\n",
      "mean absolute error: 0.0004386689664164878\n",
      "r2 score: 0.13742200853442543\n"
     ]
    }
   ],
   "source": [
    "#mean squared error\n",
    "meanSquaredError = mean_squared_error(y_test, y_prediction)\n",
    "\n",
    "print(f\"mean squared error: {meanSquaredError}\")\n",
    "\n",
    "#mean absolute error\n",
    "meanAbsoluteError = mean_absolute_error(y_test, y_prediction)\n",
    "\n",
    "print(f\"mean absolute error: {meanAbsoluteError}\")\n",
    "\n",
    "# R-2 score\n",
    "r2Score = r2_score(y_test, y_prediction)\n",
    "print(f'r2 score: {r2Score}')"
   ]
  }
 ],
 "metadata": {
  "kernelspec": {
   "display_name": "hdp",
   "language": "python",
   "name": "python3"
  },
  "language_info": {
   "codemirror_mode": {
    "name": "ipython",
    "version": 3
   },
   "file_extension": ".py",
   "mimetype": "text/x-python",
   "name": "python",
   "nbconvert_exporter": "python",
   "pygments_lexer": "ipython3",
   "version": "3.9.13"
  },
  "orig_nbformat": 4
 },
 "nbformat": 4,
 "nbformat_minor": 2
}
